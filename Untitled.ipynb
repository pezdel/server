{
 "cells": [
  {
   "cell_type": "code",
   "execution_count": null,
   "id": "585c72dc",
   "metadata": {},
   "outputs": [],
   "source": []
  },
  {
   "cell_type": "code",
   "execution_count": 1,
   "id": "85c29a1a",
   "metadata": {},
   "outputs": [],
   "source": [
    "%load_ext autoreload\n",
    "\n",
    "%autoreload 2"
   ]
  },
  {
   "cell_type": "code",
   "execution_count": 2,
   "id": "0dedd675",
   "metadata": {},
   "outputs": [
    {
     "name": "stderr",
     "output_type": "stream",
     "text": [
      "/home/pezdel/.local/lib/python3.8/site-packages/arctic/_util.py:6: FutureWarning: pandas.util.testing is deprecated. Use the functions in the public API at pandas.testing instead.\n",
      "  from pandas.util.testing import assert_frame_equal\n",
      "/home/pezdel/.local/lib/python3.8/site-packages/arctic/store/_pandas_ndarray_store.py:6: FutureWarning: The Panel class is removed from pandas. Accessing it from the top-level namespace will also be removed in the next version\n",
      "  from pandas import DataFrame, Series, Panel\n"
     ]
    }
   ],
   "source": [
    "import torch\n",
    "import torchvision.transforms as transforms\n",
    "import webdataset as wds\n",
    "import matplotlib.pyplot as plt\n",
    "import os.path\n",
    "\n",
    "from utils import fix_snip, create_test_list\n",
    "from main import ImgMatch"
   ]
  },
  {
   "cell_type": "code",
   "execution_count": 3,
   "id": "b47bcc3a",
   "metadata": {},
   "outputs": [],
   "source": [
    "url = '/home/pezdel/vsCode/server/tars/sample_snip/One.tar'\n",
    "#preproc = transforms.Compose([transforms.Resize((96,96))])\n",
    "#train_dataset = (wds.WebDataset(url).decode('torch').to_tuple('input.pyd').map_tuple(preproc))\n",
    "train_dataset = (wds.WebDataset(url).decode('torch').to_tuple('input.pyd'))\n",
    "test_list = create_test_list('basic', 95)"
   ]
  },
  {
   "cell_type": "code",
   "execution_count": null,
   "id": "a49687f8",
   "metadata": {},
   "outputs": [],
   "source": []
  },
  {
   "cell_type": "code",
   "execution_count": null,
   "id": "d4c9bd3c",
   "metadata": {},
   "outputs": [],
   "source": []
  },
  {
   "cell_type": "code",
   "execution_count": 4,
   "id": "c9bc3295",
   "metadata": {},
   "outputs": [
    {
     "data": {
      "image/png": "[encoded data removed]",
      "text/plain": [
       "<Figure size 432x288 with 1 Axes>"
      ]
     },
     "metadata": {
      "needs_background": "light"
     },
     "output_type": "display_data"
    }
   ],
   "source": [
    "for i in train_dataset:\n",
    "    for ii in i:\n",
    "        plt.imshow(ii[0])\n",
    "        plt.show()"
   ]
  },
  {
   "cell_type": "code",
   "execution_count": 7,
   "id": "0e5bdd36",
   "metadata": {},
   "outputs": [],
   "source": [
    "xx = ImgMatch(train_dataset, test_list, 'VAE')"
   ]
  },
  {
   "cell_type": "code",
   "execution_count": null,
   "id": "49b4a5aa",
   "metadata": {},
   "outputs": [],
   "source": []
  },
  {
   "cell_type": "code",
   "execution_count": 8,
   "id": "38b4b9cb",
   "metadata": {},
   "outputs": [],
   "source": [
    "xx.train_loop(1000)"
   ]
  },
  {
   "cell_type": "code",
   "execution_count": 9,
   "id": "e488893f",
   "metadata": {},
   "outputs": [
    {
     "name": "stdout",
     "output_type": "stream",
     "text": [
      "FOUND /home/pezdel/vsCode/server/tars/EURUSD/1d/EURUSD_1d_80.tar\n",
      "FOUND /home/pezdel/vsCode/server/tars/EURUSD/1d/EURUSD_1d_90.tar\n",
      "NOT FOUND /home/pezdel/vsCode/server/tars/EURUSD/1w/EURUSD_1w_80.tar\n",
      "NOT FOUND /home/pezdel/vsCode/server/tars/EURUSD/1w/EURUSD_1w_90.tar\n",
      "NOT FOUND /home/pezdel/vsCode/server/tars/GBPUSD/1d/GBPUSD_1d_80.tar\n",
      "NOT FOUND /home/pezdel/vsCode/server/tars/GBPUSD/1d/GBPUSD_1d_90.tar\n",
      "NOT FOUND /home/pezdel/vsCode/server/tars/GBPUSD/1w/GBPUSD_1w_80.tar\n",
      "NOT FOUND /home/pezdel/vsCode/server/tars/GBPUSD/1w/GBPUSD_1w_90.tar\n",
      "NOT FOUND /home/pezdel/vsCode/server/tars/USDJPY/1d/USDJPY_1d_80.tar\n",
      "NOT FOUND /home/pezdel/vsCode/server/tars/USDJPY/1d/USDJPY_1d_90.tar\n",
      "NOT FOUND /home/pezdel/vsCode/server/tars/USDJPY/1w/USDJPY_1w_80.tar\n",
      "NOT FOUND /home/pezdel/vsCode/server/tars/USDJPY/1w/USDJPY_1w_90.tar\n",
      "NOT FOUND /home/pezdel/vsCode/server/tars/NZDUSD/1d/NZDUSD_1d_80.tar\n",
      "NOT FOUND /home/pezdel/vsCode/server/tars/NZDUSD/1d/NZDUSD_1d_90.tar\n",
      "NOT FOUND /home/pezdel/vsCode/server/tars/NZDUSD/1w/NZDUSD_1w_80.tar\n",
      "NOT FOUND /home/pezdel/vsCode/server/tars/NZDUSD/1w/NZDUSD_1w_90.tar\n",
      "NOT FOUND /home/pezdel/vsCode/server/tars/AUDUSD/1d/AUDUSD_1d_80.tar\n",
      "NOT FOUND /home/pezdel/vsCode/server/tars/AUDUSD/1d/AUDUSD_1d_90.tar\n",
      "NOT FOUND /home/pezdel/vsCode/server/tars/AUDUSD/1w/AUDUSD_1w_80.tar\n",
      "NOT FOUND /home/pezdel/vsCode/server/tars/AUDUSD/1w/AUDUSD_1w_90.tar\n"
     ]
    }
   ],
   "source": [
    "xx.test_loop()"
   ]
  },
  {
   "cell_type": "code",
   "execution_count": 10,
   "id": "28522875",
   "metadata": {},
   "outputs": [
    {
     "name": "stdout",
     "output_type": "stream",
     "text": [
      "<main.ImgMatch object at 0x7f6bf2d99be0>\n"
     ]
    }
   ],
   "source": [
    "print(xx)"
   ]
  },
  {
   "cell_type": "code",
   "execution_count": null,
   "id": "47c015e5",
   "metadata": {},
   "outputs": [],
   "source": [
    "for i in test_list:\n",
    "    tk = test_list[i]['topk']\n",
    "    path = test_list[i]['path']\n",
    "    preproc = transforms.Compose([transforms.Resize((x.h, x.w))])\n",
    "    ii = os.path.exists(path)\n",
    "    if ii:\n",
    "        dataset = (wds.WebDataset(path).decode('torch').to_tuple('input.pyd').map_tuple(preproc))\n",
    "        for index, x in enumerate(dataset):\n",
    "            if index == tk:\n",
    "                plt.imshow(x[0])\n",
    "                plt.show()"
   ]
  },
  {
   "cell_type": "code",
   "execution_count": null,
   "id": "a9ed1b26",
   "metadata": {},
   "outputs": [],
   "source": []
  },
  {
   "cell_type": "code",
   "execution_count": null,
   "id": "7e173a1e",
   "metadata": {},
   "outputs": [],
   "source": []
  },
  {
   "cell_type": "code",
   "execution_count": null,
   "id": "4020d83a",
   "metadata": {},
   "outputs": [],
   "source": []
  },
  {
   "cell_type": "code",
   "execution_count": null,
   "id": "039388cd",
   "metadata": {},
   "outputs": [],
   "source": []
  },
  {
   "cell_type": "code",
   "execution_count": null,
   "id": "b7ed16b7",
   "metadata": {},
   "outputs": [],
   "source": [
    "url = '/home/pezdel/vsCode/server/tars/EURUSD_1d_80.tar'\n",
    "preproc = transforms.Compose([transforms.Resize((48,95))])\n",
    "test_dataset = (wds.WebDataset(url).decode('torch').to_tuple('input.pyd').map_tuple(preproc))\n"
   ]
  },
  {
   "cell_type": "code",
   "execution_count": null,
   "id": "cd6f3070",
   "metadata": {},
   "outputs": [],
   "source": [
    "for index, i in enumerate(test_dataset):\n",
    "    for ii in i:\n",
    "        if index == 65:\n",
    "        #if index == topk[1][0].item():\n",
    "            print(index)\n",
    "            plt.imshow(ii[0])\n",
    "            plt.show()"
   ]
  },
  {
   "cell_type": "code",
   "execution_count": null,
   "id": "6c3a3dbe",
   "metadata": {},
   "outputs": [],
   "source": []
  },
  {
   "cell_type": "code",
   "execution_count": null,
   "id": "3ad0e8a5",
   "metadata": {},
   "outputs": [],
   "source": [
    "for index, i in enumerate(test_dataset):\n",
    "    for ii in i:\n",
    "        print(index)\n",
    "        \n",
    "        plt.imshow(ii[0])\n",
    "        plt.show()"
   ]
  },
  {
   "cell_type": "code",
   "execution_count": null,
   "id": "4dbad9eb",
   "metadata": {},
   "outputs": [],
   "source": []
  },
  {
   "cell_type": "code",
   "execution_count": null,
   "id": "46adbe8f",
   "metadata": {},
   "outputs": [],
   "source": []
  }
 ],
 "metadata": {
  "kernelspec": {
   "display_name": "Python 3 (ipykernel)",
   "language": "python",
   "name": "python3"
  },
  "language_info": {
   "codemirror_mode": {
    "name": "ipython",
    "version": 3
   },
   "file_extension": ".py",
   "mimetype": "text/x-python",
   "name": "python",
   "nbconvert_exporter": "python",
   "pygments_lexer": "ipython3",
   "version": "3.8.10"
  }
 },
 "nbformat": 4,
 "nbformat_minor": 5
}
