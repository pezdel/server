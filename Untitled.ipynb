{
 "cells": [
  {
   "cell_type": "code",
   "execution_count": null,
   "id": "585c72dc",
   "metadata": {},
   "outputs": [],
   "source": []
  },
  {
   "cell_type": "code",
   "execution_count": 1,
   "id": "85c29a1a",
   "metadata": {},
   "outputs": [],
   "source": [
    "%load_ext autoreload\n",
    "\n",
    "%autoreload 2"
   ]
  },
  {
   "cell_type": "code",
   "execution_count": 2,
   "id": "0dedd675",
   "metadata": {},
   "outputs": [
    {
     "name": "stderr",
     "output_type": "stream",
     "text": [
      "/home/pezdel/.local/lib/python3.8/site-packages/arctic/_util.py:6: FutureWarning: pandas.util.testing is deprecated. Use the functions in the public API at pandas.testing instead.\n",
      "  from pandas.util.testing import assert_frame_equal\n",
      "/home/pezdel/.local/lib/python3.8/site-packages/arctic/store/_pandas_ndarray_store.py:6: FutureWarning: The Panel class is removed from pandas. Accessing it from the top-level namespace will also be removed in the next version\n",
      "  from pandas import DataFrame, Series, Panel\n"
     ]
    }
   ],
   "source": [
    "import torch\n",
    "import torchvision.transforms as transforms\n",
    "import webdataset as wds\n",
    "import matplotlib.pyplot as plt\n",
    "\n",
    "from main import TestList, ImgMatch"
   ]
  },
  {
   "cell_type": "code",
   "execution_count": 3,
   "id": "b47bcc3a",
   "metadata": {},
   "outputs": [],
   "source": [
    "url = '/home/pezdel/vsCode/server/tars/sample_snip/One.tar'\n",
    "#preproc = transforms.Compose([transforms.Resize((96,96))])\n",
    "#train_dataset = (wds.WebDataset(url).decode('torch').to_tuple('input.pyd').map_tuple(preproc))\n",
    "train_dataset = (wds.WebDataset(url).decode('torch').to_tuple('input.pyd'))\n",
    "test_list = TestList('basic', 95)"
   ]
  },
  {
   "cell_type": "code",
   "execution_count": null,
   "id": "a49687f8",
   "metadata": {},
   "outputs": [],
   "source": []
  },
  {
   "cell_type": "code",
   "execution_count": null,
   "id": "d4c9bd3c",
   "metadata": {},
   "outputs": [],
   "source": []
  },
  {
   "cell_type": "code",
   "execution_count": 4,
   "id": "c9bc3295",
   "metadata": {},
   "outputs": [
    {
     "data": {
      "image/png": "[encoded data removed]",
      "text/plain": [
       "<Figure size 432x288 with 1 Axes>"
      ]
     },
     "metadata": {
      "needs_background": "light"
     },
     "output_type": "display_data"
    }
   ],
   "source": [
    "for i in train_dataset:\n",
    "    for ii in i:\n",
    "        plt.imshow(ii[0])\n",
    "        plt.show()"
   ]
  },
  {
   "cell_type": "code",
   "execution_count": 5,
   "id": "0e5bdd36",
   "metadata": {},
   "outputs": [
    {
     "name": "stdout",
     "output_type": "stream",
     "text": [
      "48\n",
      "95\n"
     ]
    }
   ],
   "source": [
    "x = ImgMatch(train_dataset, test_list.file_list, 'VAE', 100)"
   ]
  },
  {
   "cell_type": "code",
   "execution_count": 6,
   "id": "38b4b9cb",
   "metadata": {},
   "outputs": [],
   "source": [
    "x.train_loop(10000)"
   ]
  },
  {
   "cell_type": "code",
   "execution_count": 7,
   "id": "e488893f",
   "metadata": {},
   "outputs": [
    {
     "name": "stdout",
     "output_type": "stream",
     "text": [
      "/home/pezdel/vsCode/server/tars/EURUSD_1d_80.tar\n",
      "torch.return_types.sort(\n",
      "values=tensor([2.6147e+03, 2.8796e+03, 3.4540e+03, 3.4932e+03, 4.4687e+03, 4.5146e+03,\n",
      "        4.8696e+03, 5.0585e+03, 6.0503e+03, 7.0102e+03, 7.8019e+03, 9.2206e+03,\n",
      "        9.6544e+03, 9.7564e+03, 9.8437e+03, 1.0381e+04, 1.1006e+04, 1.1048e+04,\n",
      "        1.1272e+04, 1.3934e+04, 1.5460e+04, 1.6876e+04, 1.6962e+04, 1.7453e+04,\n",
      "        1.9403e+04, 1.9494e+04, 2.3213e+04, 2.3834e+04, 2.4260e+04, 3.3572e+04,\n",
      "        3.3664e+04, 4.0063e+04, 4.4411e+04, 4.4993e+04, 4.7319e+04, 5.2003e+04,\n",
      "        6.1940e+04, 6.6526e+04, 6.7757e+04, 6.9625e+04, 7.0642e+04, 7.5278e+04,\n",
      "        7.6063e+04, 7.7493e+04, 7.9294e+04, 8.0068e+04, 8.2258e+04, 8.3207e+04,\n",
      "        8.6994e+04, 9.7010e+04, 9.7996e+04, 1.1249e+05, 1.2411e+05, 1.3581e+05,\n",
      "        1.4231e+05, 1.4751e+05, 1.4967e+05, 1.5578e+05, 1.7212e+05, 1.7457e+05,\n",
      "        1.8536e+05, 1.8989e+05, 2.0293e+05, 3.3681e+05, 3.3900e+05, 4.6033e+05,\n",
      "        4.8683e+05, 1.1987e+06, 1.8888e+06, 2.9970e+06, 3.3322e+06, 1.4104e+07,\n",
      "        1.7153e+07, 2.3478e+07], dtype=torch.float64),\n",
      "indices=tensor([65, 15, 28, 30, 48, 41, 29, 39, 11, 40, 14, 16, 58, 61, 10, 53, 72, 68,\n",
      "        54, 45, 32, 55, 19, 24, 34, 62, 44, 43, 20, 35, 36, 18, 13, 50, 66, 59,\n",
      "        71,  9, 57,  5,  6, 73, 27, 17, 56,  2,  7, 33,  4, 46, 37, 42, 60, 52,\n",
      "        70, 67, 31, 63, 23, 26, 64, 49, 51, 47,  0, 69,  1,  8, 25, 22, 38, 12,\n",
      "         3, 21]))\n"
     ]
    }
   ],
   "source": [
    "topk = x.test_loop()"
   ]
  },
  {
   "cell_type": "code",
   "execution_count": null,
   "id": "47c015e5",
   "metadata": {},
   "outputs": [],
   "source": []
  },
  {
   "cell_type": "code",
   "execution_count": 8,
   "id": "b7ed16b7",
   "metadata": {},
   "outputs": [],
   "source": [
    "url = '/home/pezdel/vsCode/server/tars/EURUSD_1d_80.tar'\n",
    "preproc = transforms.Compose([transforms.Resize((48,95))])\n",
    "test_dataset = (wds.WebDataset(url).decode('torch').to_tuple('input.pyd').map_tuple(preproc))\n"
   ]
  },
  {
   "cell_type": "code",
   "execution_count": 15,
   "id": "cd6f3070",
   "metadata": {},
   "outputs": [
    {
     "name": "stdout",
     "output_type": "stream",
     "text": [
      "65\n"
     ]
    },
    {
     "data": {
      "image/png": "[encoded data removed]",
      "text/plain": [
       "<Figure size 432x288 with 1 Axes>"
      ]
     },
     "metadata": {
      "needs_background": "light"
     },
     "output_type": "display_data"
    }
   ],
   "source": [
    "for index, i in enumerate(test_dataset):\n",
    "    for ii in i:\n",
    "        if index == 65:\n",
    "        #if index == topk[1][0].item():\n",
    "            print(index)\n",
    "            plt.imshow(ii[0])\n",
    "            plt.show()"
   ]
  },
  {
   "cell_type": "code",
   "execution_count": null,
   "id": "6c3a3dbe",
   "metadata": {},
   "outputs": [],
   "source": []
  },
  {
   "cell_type": "code",
   "execution_count": null,
   "id": "3ad0e8a5",
   "metadata": {},
   "outputs": [],
   "source": [
    "for index, i in enumerate(test_dataset):\n",
    "    for ii in i:\n",
    "        print(index)\n",
    "        \n",
    "        plt.imshow(ii[0])\n",
    "        plt.show()"
   ]
  },
  {
   "cell_type": "code",
   "execution_count": null,
   "id": "4dbad9eb",
   "metadata": {},
   "outputs": [],
   "source": []
  },
  {
   "cell_type": "code",
   "execution_count": null,
   "id": "46adbe8f",
   "metadata": {},
   "outputs": [],
   "source": []
  }
 ],
 "metadata": {
  "kernelspec": {
   "display_name": "Python 3 (ipykernel)",
   "language": "python",
   "name": "python3"
  },
  "language_info": {
   "codemirror_mode": {
    "name": "ipython",
    "version": 3
   },
   "file_extension": ".py",
   "mimetype": "text/x-python",
   "name": "python",
   "nbconvert_exporter": "python",
   "pygments_lexer": "ipython3",
   "version": "3.8.10"
  }
 },
 "nbformat": 4,
 "nbformat_minor": 5
}
